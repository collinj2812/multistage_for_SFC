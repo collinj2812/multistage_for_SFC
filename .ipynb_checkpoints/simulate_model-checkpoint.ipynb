{
 "cells": [
  {
   "cell_type": "code",
   "execution_count": 5,
   "id": "973ab634-6538-4c84-8e43-e5adcc98f33b",
   "metadata": {},
   "outputs": [],
   "source": [
    "import sys\n",
    "import numpy as np\n",
    "import matplotlib.pyplot as plt\n",
    "from tqdm import tqdm\n",
    "sys.path.append('./model')\n",
    "\n",
    "import sfc_model\n",
    "import config"
   ]
  },
  {
   "cell_type": "code",
   "execution_count": 6,
   "id": "fc688998-50fa-433b-b0d0-8abcbebb8e0d",
   "metadata": {},
   "outputs": [
    {
     "data": {
      "image/png": "[encoded data removed]",
      "text/plain": [
       "<Figure size 640x480 with 1 Axes>"
      ]
     },
     "metadata": {},
     "output_type": "display_data"
    }
   ],
   "source": [
    "# define some parameters for the simulation\n",
    "N_discr = 30  # discretization for outer tube\n",
    "dt = 5  # time step of simulation\n",
    "\n",
    "model_param = config.param  # parameters needed for model\n",
    "MC_param = config.MC_param  # parameters needed for Monte Carlo simulation part\n",
    "\n",
    "# generate smooth initial function from measurements for sampling\n",
    "x_points = 1e-6*np.array([0, 2, 2.5, 3.2, 4, 5, 6.3, 8, 10.1, 12.7, 16, 20.2, 25.4, 32, 40.3, 50.8, 64, 80.6, 101.6, 128, 161.3, 203.2, 256, 322.5, 406.4, 512, 645.1, 812.7, 1024, 1290.2, 1625.5, 2048, 2580.3])\n",
    "# cumulative\n",
    "y_points = np.array([0, 0, 0, 0, 0, 0, 0, 0, 0, 0, 0, 0, 0, 0, 0, 0, 0, 0, 0.006, 0.02, 0.09, 0.3, 0.8, 0.98, 0.99, 1, 1, 1, 1, 1, 1, 1, 1])\n",
    "n_init, domain = config.initialize_init_function(x_points, y_points)\n",
    "# plot initial distribution\n",
    "xx_plot = np.linspace(*domain,1001)\n",
    "yy_plot = n_init(xx_plot)\n",
    "\n",
    "plt.plot(xx_plot,yy_plot)\n",
    "plt.plot(x_points[1:],y_points[1:]-y_points[:-1],'x')  # density\n",
    "plt.show()"
   ]
  },
  {
   "cell_type": "code",
   "execution_count": 7,
   "id": "94a36642-2f2d-4820-a699-962fc1145c6b",
   "metadata": {},
   "outputs": [],
   "source": [
    "# overwrite default parameters\n",
    "MC_param['n_init'] = n_init\n",
    "MC_param['domain'] = domain\n",
    "\n",
    "# setup model\n",
    "model = sfc_model.SFCModel()\n",
    "model.setup(model_param['L'], dt, N_discr, model_param, MC_param)"
   ]
  },
  {
   "cell_type": "code",
   "execution_count": null,
   "id": "7d9bd8f5-58f7-4a89-903b-58705f0e48a3",
   "metadata": {},
   "outputs": [
    {
     "name": "stderr",
     "output_type": "stream",
     "text": [
      " 26%|████████████████████▊                                                           | 130/500 [00:06<00:24, 15.40it/s]"
     ]
    }
   ],
   "source": [
    "# run simulation\n",
    "n_steps = 500\n",
    "\n",
    "# inputs\n",
    "c_in = 0.19\n",
    "T_PM_in = 273.15 + 50\n",
    "T_TM_in = 273.15 + 50\n",
    "mf_PM = 10.83/60/1000/1000*config.param['rho_PM']\n",
    "mf_TM = 50/60/1000/1000*config.param['rho_TM']\n",
    "Q_g = 10.83/60/1000/1000 # gas flow rate [m^3/s]\n",
    "w_crystal = 0.005\n",
    "\n",
    "for _ in tqdm(range(n_steps)):\n",
    "    model.make_step(c_in, T_PM_in, T_TM_in, mf_PM, mf_TM, Q_g, w_crystal)\n",
    "\n",
    "# plot states over length of crystallizer at end of simulation\n",
    "model.plot_states_over_length()"
   ]
  }
 ],
 "metadata": {
  "kernelspec": {
   "display_name": "Python 3 (ipykernel)",
   "language": "python",
   "name": "python3"
  },
  "language_info": {
   "codemirror_mode": {
    "name": "ipython",
    "version": 3
   },
   "file_extension": ".py",
   "mimetype": "text/x-python",
   "name": "python",
   "nbconvert_exporter": "python",
   "pygments_lexer": "ipython3",
   "version": "3.12.9"
  }
 },
 "nbformat": 4,
 "nbformat_minor": 5
}
